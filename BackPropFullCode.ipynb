{
  "nbformat": 4,
  "nbformat_minor": 0,
  "metadata": {
    "colab": {
      "provenance": []
    },
    "kernelspec": {
      "name": "python3",
      "display_name": "Python 3"
    },
    "language_info": {
      "name": "python"
    }
  },
  "cells": [
    {
      "cell_type": "code",
      "execution_count": null,
      "metadata": {
        "id": "sCs6JY8aLI_d"
      },
      "outputs": [],
      "source": [
        "import numpy as np"
      ]
    },
    {
      "cell_type": "code",
      "source": [
        "def sigmoid(x):\n",
        "    return 1 / (1 + np.exp(-x))\n",
        "\n",
        "def cross_entropy(y_pred, y_true):\n",
        "    return -(y_true @ np.log(y_pred))\n",
        "\n",
        "def d_cross_entropy(y, y_pred):\n",
        "    return -(y - y_pred)\n",
        "\n",
        "def softmax(L):\n",
        "    arr = []\n",
        "    for i in L:\n",
        "        arr.append(np.exp(i) / np.exp(L).sum())\n",
        "\n",
        "    return arr\n",
        "\n",
        "def dsigmoid(x):\n",
        "    return sigmoid(x) * sigmoid(1- x)"
      ],
      "metadata": {
        "id": "NRSO56VjLLM9"
      },
      "execution_count": null,
      "outputs": []
    },
    {
      "cell_type": "code",
      "source": [
        "def initialize_parameters(inputs, hidden_layers, outputs):\n",
        "    parameters = {}\n",
        "    parameters[\"W1\"] = np.random.rand(hidden_layers[0], inputs)\n",
        "    parameters[\"b1\"] = np.random.rand(hidden_layers[0])\n",
        "    for i in range(1, len(hidden_layers)):\n",
        "        parameters[f\"W{i+1}\"] = np.random.rand(hidden_layers[i], hidden_layers[i - 1])\n",
        "        parameters[f\"b{i+1}\"] = np.random.rand(hidden_layers[i])\n",
        "    parameters[f\"W{len(hidden_layers) + 1}\"] = np.random.rand(outputs, hidden_layers[-1])\n",
        "    parameters[f\"b{len(hidden_layers) + 1}\"] = np.random.rand(outputs)\n",
        "    return parameters"
      ],
      "metadata": {
        "id": "Dx5cPJmFLOCK"
      },
      "execution_count": null,
      "outputs": []
    },
    {
      "cell_type": "code",
      "source": [
        "initialize_parameters(3, [3, 3], 3)"
      ],
      "metadata": {
        "colab": {
          "base_uri": "https://localhost:8080/"
        },
        "id": "0rx9ZnMzLQc3",
        "outputId": "3b3628dc-ae9f-4a25-fccb-9429988c21cb"
      },
      "execution_count": null,
      "outputs": [
        {
          "output_type": "execute_result",
          "data": {
            "text/plain": [
              "{'W1': array([[0.77598964, 0.11086056, 0.30225126],\n",
              "        [0.11365554, 0.26429342, 0.52373418],\n",
              "        [0.79322532, 0.64690812, 0.8974008 ]]),\n",
              " 'b1': array([0.36480097, 0.9341658 , 0.20235546]),\n",
              " 'W2': array([[0.14300462, 0.20842507, 0.36226225],\n",
              "        [0.45635101, 0.68723658, 0.36556873],\n",
              "        [0.30971569, 0.22668197, 0.01672032]]),\n",
              " 'b2': array([0.52674602, 0.14504988, 0.01473813]),\n",
              " 'W3': array([[0.53690854, 0.07699711, 0.46227208],\n",
              "        [0.16290924, 0.27618729, 0.22235894],\n",
              "        [0.65722696, 0.43030143, 0.54799411]]),\n",
              " 'b3': array([0.51138319, 0.89299058, 0.60671539])}"
            ]
          },
          "metadata": {},
          "execution_count": 4
        }
      ]
    },
    {
      "cell_type": "code",
      "source": [
        "W1 = np.array([\n",
        "    [0.5488135, 0.71518937, 0.60276338],\n",
        "    [0.54488318, 0.4236548, 0.64589411],\n",
        "    [0.43758721, 0.891773, 0.96366276]\n",
        "])\n",
        "W2 = np.array([\n",
        "    [0.56804456, 0.92559664, 0.07103606],\n",
        "    [0.0871293, 0.0202184, 0.83261985],\n",
        "    [0.77815675, 0.87001215, 0.97861834]\n",
        "])\n",
        "W3 = np.array([\n",
        "    [0.11827443, 0.63992102, 0.14335329],\n",
        "    [0.94466892, 0.52184832, 0.41466194],\n",
        "    [0.26455561, 0.77423369, 0.45615033]\n",
        "])\n",
        "\n",
        "b1 = np.array(\n",
        "    [0.38344152, 0.79172504, 0.52889492]\n",
        ")\n",
        "\n",
        "b2 = np.array(\n",
        "    [0.7991586, 0.46147936, 0.52889492]\n",
        ")\n",
        "\n",
        "b3 = np.array(\n",
        "    [0.56843395, 0.0187898, 0.6176355]\n",
        ")\n",
        "\n",
        "X = np.array(\n",
        "    [[1, 0, 1]]\n",
        ")\n",
        "\n",
        "Y = np.array(\n",
        "    [[0, 0, 1]]\n",
        ")"
      ],
      "metadata": {
        "id": "EkSTlAAxOq01"
      },
      "execution_count": null,
      "outputs": []
    },
    {
      "cell_type": "code",
      "source": [
        "parameters = {\n",
        "    'W1': W1,\n",
        "    'W2': W2,\n",
        "    'W3': W3,\n",
        "    'b1': b1,\n",
        "    'b2': b2,\n",
        "    'b3': b3,\n",
        "}"
      ],
      "metadata": {
        "id": "PMb9tv5oOmly"
      },
      "execution_count": null,
      "outputs": []
    },
    {
      "cell_type": "code",
      "source": [
        "def forward_propogation(parameters, x, g, O):\n",
        "    activations = {}\n",
        "    activations[\"a1\"] = parameters[\"W1\"] @ x + parameters[\"b1\"]\n",
        "    activations[\"h1\"] = g(activations[\"a1\"])\n",
        "    for i in range(2, len(parameters) // 2):\n",
        "        activations[f\"a{i}\"] = parameters[f\"W{i}\"] @ activations[f\"h{i - 1}\"] + parameters[f\"b{i}\"]\n",
        "        activations[f\"h{i}\"] = g(activations[f\"a{i}\"])\n",
        "\n",
        "    activations[f\"a{len(parameters) // 2}\"] = parameters[f\"W{len(parameters) // 2}\"] @ activations[f\"h{len(parameters) // 2 - 1}\"] + parameters[f\"b{len(parameters) // 2}\"]\n",
        "    y_pred = O(activations[f\"a{len(parameters) // 2}\"])\n",
        "    return y_pred, activations"
      ],
      "metadata": {
        "id": "VaqCXQ6bMvGa"
      },
      "execution_count": null,
      "outputs": []
    },
    {
      "cell_type": "code",
      "source": [
        "forward_propogation(parameters, x, sigmoid, softmax)"
      ],
      "metadata": {
        "colab": {
          "base_uri": "https://localhost:8080/"
        },
        "id": "JgwYnxZ_Ov6d",
        "outputId": "c22ba179-67dc-4a1a-d0e4-e9e95261f05c"
      },
      "execution_count": null,
      "outputs": [
        {
          "output_type": "execute_result",
          "data": {
            "text/plain": [
              "([0.23756972385440864, 0.3381938464839215, 0.42423642966166986],\n",
              " {'a1': array([1.5350184 , 1.98250233, 1.93014489]),\n",
              "  'h1': array([0.82273938, 0.87894766, 0.87326546]),\n",
              "  'a2': array([2.14209557, 1.27803313, 2.78840386]),\n",
              "  'h2': array([0.89492782, 0.78211479, 0.94204596]),\n",
              "  'a3': array([1.30981811, 1.6629762 , 1.88964787])})"
            ]
          },
          "metadata": {},
          "execution_count": 8
        }
      ]
    },
    {
      "cell_type": "code",
      "source": [
        "def backPropogation(y_pred, y, activations, g_dash, O_dash, parameters, x):\n",
        "    losses = {}\n",
        "    n = len(parameters) // 2\n",
        "    m = len(activations) // 2\n",
        "    La = O_dash(y, y_pred)\n",
        "\n",
        "    Lh = La @ parameters[f\"W{n}\"]\n",
        "\n",
        "    da = g_dash(activations[f\"a{m}\"])\n",
        "    losses[f\"LW{n}\"] = np.outer(La, activations[f\"h{m}\"])\n",
        "    losses[f\"Lb{n}\"] = La.copy()\n",
        "\n",
        "\n",
        "\n",
        "\n",
        "    for i in range(1, m):\n",
        "        La = Lh * da\n",
        "        Lh = La @ parameters[f\"W{m - i + 1}\"]\n",
        "        da = g_dash(activations[f\"a{m - i}\"])\n",
        "        losses[f\"LW{m - i + 1}\"] = np.outer(La, activations[f\"h{m - i}\"])\n",
        "        losses[f\"Lb{m - i + 1}\"] = La.copy()\n",
        "\n",
        "    La = Lh * da\n",
        "    losses[\"LW1\"] = np.outer(La, x)\n",
        "    losses[\"Lb1\"] = La.copy()\n",
        "\n",
        "\n",
        "    return losses"
      ],
      "metadata": {
        "id": "08eIgLL1PZ7y"
      },
      "execution_count": null,
      "outputs": []
    },
    {
      "cell_type": "code",
      "source": [
        "y_pred, activations = forward_propogation(parameters, x, sigmoid, softmax)"
      ],
      "metadata": {
        "id": "d9J67lZeVk-t"
      },
      "execution_count": null,
      "outputs": []
    },
    {
      "cell_type": "code",
      "source": [
        "gradient_loss = backPropogation(y_pred, y, activations, dsigmoid, d_cross_entropy, parameters, x)"
      ],
      "metadata": {
        "id": "MLaUMtvAVhki"
      },
      "execution_count": null,
      "outputs": []
    },
    {
      "cell_type": "code",
      "source": [
        "def gradient_descent(parameters, losses, eta):\n",
        "    new_parameters = {}\n",
        "    for i in range(len(parameters) // 2):\n",
        "        new_parameters[f\"W{i + 1}\"] = parameters[f\"W{i + 1}\"] - eta * losses[f\"LW{i + 1}\"]\n",
        "        new_parameters[f\"b{i + 1}\"] = parameters[f\"b{i + 1}\"] - eta * losses[f\"Lb{i + 1}\"]\n",
        "    return new_parameters"
      ],
      "metadata": {
        "id": "GkMw_Texbr3U"
      },
      "execution_count": null,
      "outputs": []
    },
    {
      "cell_type": "code",
      "source": [
        "new_parameters = gradient_descent(parameters, gradient_loss, 1)"
      ],
      "metadata": {
        "id": "H8840v0QcOWb"
      },
      "execution_count": null,
      "outputs": []
    },
    {
      "cell_type": "code",
      "source": [
        "y_pred, activations = forward_propogation(new_parameters, x, sigmoid, softmax)"
      ],
      "metadata": {
        "id": "fN6xUPw7cmJR"
      },
      "execution_count": null,
      "outputs": []
    },
    {
      "cell_type": "code",
      "source": [
        "cross_entropy(y_pred, y)"
      ],
      "metadata": {
        "colab": {
          "base_uri": "https://localhost:8080/"
        },
        "id": "DTd_XfnYczZu",
        "outputId": "6e5bb56f-5cf3-4ee3-adf9-893a7477f119"
      },
      "execution_count": null,
      "outputs": [
        {
          "output_type": "execute_result",
          "data": {
            "text/plain": [
              "0.07711344018879235"
            ]
          },
          "metadata": {},
          "execution_count": 15
        }
      ]
    },
    {
      "cell_type": "markdown",
      "source": [
        "# Backpropogation code"
      ],
      "metadata": {
        "id": "mpOpK0FFe__l"
      }
    },
    {
      "cell_type": "code",
      "source": [
        "from scipy.special import expit\n",
        "\n",
        "# Helper Functions\n",
        "def sigmoid(x):\n",
        "    return expit(x)\n",
        "\n",
        "def cross_entropy(y_pred, y_true, epsilon=1e-15):\n",
        "    # Clip y_pred to avoid values close to 0 or 1\n",
        "    y_pred = np.clip(y_pred, epsilon, 1 - epsilon)\n",
        "    return -(y_true @ np.log(y_pred))\n",
        "\n",
        "def d_cross_entropy(y, y_pred):\n",
        "    return -(y - y_pred)\n",
        "\n",
        "def softmax(L):\n",
        "    exp_L = np.exp(L - np.max(L))  # Subtract the maximum value to avoid overflow\n",
        "    return exp_L / exp_L.sum(axis=0, keepdims=True)  # Compute softmax along the specified axis\n",
        "\n",
        "def dsigmoid(x):\n",
        "    return sigmoid(x) * sigmoid(1- x)\n",
        "\n",
        "# Initialize Parameters\n",
        "\n",
        "def initialize_parameters(inputs, hidden_layers, outputs):\n",
        "    parameters = {}\n",
        "    parameters[\"W1\"] = np.random.rand(hidden_layers[0], inputs)\n",
        "    parameters[\"b1\"] = np.random.rand(hidden_layers[0])\n",
        "    for i in range(1, len(hidden_layers)):\n",
        "        parameters[f\"W{i+1}\"] = np.random.rand(hidden_layers[i], hidden_layers[i - 1])\n",
        "        parameters[f\"b{i+1}\"] = np.random.rand(hidden_layers[i])\n",
        "    parameters[f\"W{len(hidden_layers) + 1}\"] = np.random.rand(outputs, hidden_layers[-1])\n",
        "    parameters[f\"b{len(hidden_layers) + 1}\"] = np.random.rand(outputs)\n",
        "    return parameters\n",
        "\n",
        "# Forward Propogation\n",
        "\n",
        "def forward_propogation(parameters, x, g, O):\n",
        "    activations = {}\n",
        "\n",
        "    activations[\"a1\"] = parameters[\"W1\"] @ x + parameters[\"b1\"]\n",
        "    activations[\"h1\"] = g(activations[\"a1\"])\n",
        "    for i in range(2, len(parameters) // 2):\n",
        "        activations[f\"a{i}\"] = parameters[f\"W{i}\"] @ activations[f\"h{i - 1}\"] + parameters[f\"b{i}\"]\n",
        "        activations[f\"h{i}\"] = g(activations[f\"a{i}\"])\n",
        "\n",
        "    activations[f\"a{len(parameters) // 2}\"] = parameters[f\"W{len(parameters) // 2}\"] @ activations[f\"h{len(parameters) // 2 - 1}\"] + parameters[f\"b{len(parameters) // 2}\"]\n",
        "    y_pred = O(activations[f\"a{len(parameters) // 2}\"])\n",
        "    return y_pred, activations\n",
        "\n",
        "# Backpropogation\n",
        "\n",
        "def backPropogation(y_pred, y, activations, g_dash, O_dash, parameters, x):\n",
        "    losses = {}\n",
        "    n = len(parameters) // 2\n",
        "    m = len(activations) // 2\n",
        "    La = O_dash(y, y_pred)\n",
        "\n",
        "\n",
        "    Lh = La @ parameters[f\"W{n}\"]\n",
        "\n",
        "    da = g_dash(activations[f\"a{m}\"])\n",
        "    losses[f\"W{n}\"] = np.outer(La, activations[f\"h{m}\"])\n",
        "    losses[f\"b{n}\"] = La.copy()\n",
        "\n",
        "\n",
        "\n",
        "\n",
        "    for i in range(1, m):\n",
        "        La = Lh * da\n",
        "        Lh = La @ parameters[f\"W{m - i + 1}\"]\n",
        "        da = g_dash(activations[f\"a{m - i}\"])\n",
        "        losses[f\"W{m - i + 1}\"] = np.outer(La, activations[f\"h{m - i}\"])\n",
        "        losses[f\"b{m - i + 1}\"] = La.copy()\n",
        "\n",
        "    La = Lh * da\n",
        "    losses[\"W1\"] = np.outer(La, x)\n",
        "    losses[\"b1\"] = La.copy()\n",
        "\n",
        "\n",
        "    return losses\n",
        "\n",
        "# Gradient Descent (Batch)\n",
        "def gradient_descent(parameters, losses, eta):\n",
        "    for i in range(len(parameters) // 2):\n",
        "        parameters[f\"W{i + 1}\"] = parameters[f\"W{i + 1}\"] - eta * losses[f\"W{i + 1}\"]\n",
        "        parameters[f\"b{i + 1}\"] = parameters[f\"b{i + 1}\"] - eta * losses[f\"b{i + 1}\"]\n",
        "    return parameters\n",
        "\n",
        "def sgd(parameters, losses, eta):\n",
        "    new_parameters = {}\n",
        "    num_samples = len(losses)  # Number of data points or samples\n",
        "\n",
        "    # Iterate over each sample and update parameters using its corresponding gradient\n",
        "    for i in range(num_samples):\n",
        "        for j in range(1, len(parameters) // 2 + 1):  # Iterate over layers\n",
        "            new_parameters[f\"W{j}\"] = parameters[f\"W{j}\"] - eta * losses[f\"W{j}\"]\n",
        "            new_parameters[f\"b{j}\"] = parameters[f\"b{j}\"] - eta * losses[f\"b{j}\"]\n",
        "\n",
        "    return new_parameters\n",
        "\n",
        "\n",
        "def train(X, Y, epochs, hidden_layers, g, O, g_dash, O_dash, eta, optimizer):\n",
        "    parameters = initialize_parameters(X[0].shape[0], hidden_layers, Y[0].shape[0])\n",
        "    print(parameters)\n",
        "    for _ in range(epochs):\n",
        "        total_gradient_loss = {key: 0 for key in parameters.keys()}  # Initialize total gradient loss\n",
        "        for x, y in zip(X, Y):  # Iterate over each data point\n",
        "            y_pred, activations = forward_propogation(parameters, x, g, O)\n",
        "            gradient_loss = backPropogation(y_pred, y, activations, g_dash, O_dash, parameters, x)\n",
        "            # Accumulate the gradients for each data point\n",
        "            for key in total_gradient_loss:\n",
        "                total_gradient_loss[key] += gradient_loss.get(key, 0)\n",
        "        # Update the parameters using the accumulated gradients\n",
        "        parameters = optimizer(parameters, total_gradient_loss, eta)\n",
        "    return parameters\n",
        "\n",
        "def evaluate(X, parameters, g, O):\n",
        "    return np.array(forward_propogation(parameters, X, g, O)[0])\n"
      ],
      "metadata": {
        "id": "Ag2iSrF_cmax"
      },
      "execution_count": null,
      "outputs": []
    },
    {
      "cell_type": "code",
      "source": [
        "parameters = train(X, Y, 300, [3, 4, 5], sigmoid, softmax, dsigmoid, d_cross_entropy, 50, sgd)"
      ],
      "metadata": {
        "colab": {
          "base_uri": "https://localhost:8080/"
        },
        "id": "pRZpWnjpc9jS",
        "outputId": "5fc01ff8-880a-4e48-9b49-f7819052ce55"
      },
      "execution_count": null,
      "outputs": [
        {
          "output_type": "stream",
          "name": "stdout",
          "text": [
            "{'W1': array([[0.87587277, 0.92672285, 0.87456226, 0.17584757, 0.91949464,\n",
            "        0.52739797, 0.47525497, 0.74970912, 0.16905386, 0.61531109],\n",
            "       [0.66824326, 0.57244168, 0.97480688, 0.43733053, 0.11519756,\n",
            "        0.23291893, 0.03509665, 0.84786526, 0.24456808, 0.32763348],\n",
            "       [0.21250549, 0.27237536, 0.01871629, 0.74984428, 0.37838721,\n",
            "        0.4894164 , 0.3338544 , 0.30595014, 0.32448785, 0.49691844]]), 'b1': array([0.47253296, 0.03716997, 0.97390171]), 'W2': array([[0.8867403 , 0.56835411, 0.42025399],\n",
            "       [0.89992407, 0.22984957, 0.4143102 ],\n",
            "       [0.56335832, 0.52052592, 0.12128385],\n",
            "       [0.68321713, 0.1038356 , 0.45412441]]), 'b2': array([0.48048849, 0.13035009, 0.37971717, 0.4911684 ]), 'W3': array([[0.99960946, 0.20740405, 0.81982168, 0.4717515 ],\n",
            "       [0.18671358, 0.59537892, 0.13991907, 0.0122807 ],\n",
            "       [0.47032275, 0.37878221, 0.8311686 , 0.18291506],\n",
            "       [0.60849864, 0.65290657, 0.18513642, 0.85609373],\n",
            "       [0.37067216, 0.70792865, 0.56724982, 0.51616089]]), 'b3': array([0.19451435, 0.38387425, 0.30625388, 0.85498621, 0.13685802]), 'W4': array([[0.31884011, 0.74256658, 0.73398391, 0.54345265, 0.43688923],\n",
            "       [0.88258466, 0.96689705, 0.37557067, 0.18907122, 0.24974813],\n",
            "       [0.73355826, 0.03796224, 0.12087648, 0.33143067, 0.58250407]]), 'b4': array([0.56400654, 0.7840343 , 0.48185952])}\n"
          ]
        }
      ]
    },
    {
      "cell_type": "code",
      "source": [
        "def initialize_parameters(inputs, hidden_layers, outputs):\n",
        "    parameters = {}\n",
        "    parameters[\"W1\"] = np.random.rand(hidden_layers[0], inputs)\n",
        "    parameters[\"b1\"] = np.random.rand(hidden_layers[0])\n",
        "    for i in range(1, len(hidden_layers)):\n",
        "        parameters[f\"W{i+1}\"] = np.random.rand(hidden_layers[i], hidden_layers[i - 1])\n",
        "        parameters[f\"b{i+1}\"] = np.random.rand(hidden_layers[i])\n",
        "    parameters[f\"W{len(hidden_layers) + 1}\"] = np.random.rand(outputs, hidden_layers[-1])\n",
        "    parameters[f\"b{len(hidden_layers) + 1}\"] = np.random.rand(outputs)\n",
        "\n",
        "    # Initialize AdaM parameters\n",
        "    v = {}\n",
        "    s = {}\n",
        "    for key in parameters.keys():\n",
        "        if key.startswith(\"W\") or key.startswith(\"b\"):\n",
        "            v[key] = np.zeros_like(parameters[key])\n",
        "            s[key] = np.zeros_like(parameters[key])\n",
        "\n",
        "    return parameters, v, s\n",
        "\n",
        "def adam(parameters, v, s, losses, eta, beta1=0.9, beta2=0.999, epsilon=1e-8, t=0):\n",
        "    for key in parameters.keys():\n",
        "        if key.startswith(\"W\") or key.startswith(\"b\"):\n",
        "            # Compute gradients\n",
        "            gradient = losses[key]\n",
        "\n",
        "            # Update time step\n",
        "            t += 1\n",
        "\n",
        "            # Update biased first moment estimate\n",
        "            v[key] = beta1 * v[key] + (1 - beta1) * gradient\n",
        "            # Update biased second moment estimate\n",
        "            s[key] = beta2 * s[key] + (1 - beta2) * (gradient ** 2)\n",
        "\n",
        "            # Correct the bias in the first moment\n",
        "            v_corrected = v[key] / (1 - beta1 ** t)\n",
        "            # Correct the bias in the second moment\n",
        "            s_corrected = s[key] / (1 - beta2 ** t)\n",
        "\n",
        "            # Update parameters\n",
        "            parameters[key] -= eta * v_corrected / (np.sqrt(s_corrected) + epsilon)\n",
        "\n",
        "    return parameters, v, s\n",
        "\n",
        "def train(X, Y, epochs, hidden_layers, g, O, g_dash, O_dash, eta, optimizer):\n",
        "    parameters, v, s = initialize_parameters(X[0].shape[0], hidden_layers, Y[0].shape[0])\n",
        "\n",
        "    for _ in range(epochs):\n",
        "        for x, y in zip(X, Y):\n",
        "            y_pred, activations = forward_propogation(parameters, x, g, O)\n",
        "            gradient_loss = backPropogation(y_pred, y, activations, g_dash, O_dash, parameters, x)\n",
        "            parameters, v, s = optimizer(parameters, v, s, gradient_loss, eta)\n",
        "\n",
        "    return parameters\n",
        "\n",
        "# Usage example:\n",
        "# parameters = train(X, Y, epochs, hidden_layers, sigmoid, softmax, dsigmoid, d_cross_entropy, eta, adam)\n"
      ],
      "metadata": {
        "id": "sXRCUZao6S1b"
      },
      "execution_count": null,
      "outputs": []
    },
    {
      "cell_type": "code",
      "source": [
        "parameters = train(X, Y, 300, [3, 4, 5], sigmoid, softmax, dsigmoid, d_cross_entropy, 50, adam)"
      ],
      "metadata": {
        "id": "kVsGnCB2oHrQ"
      },
      "execution_count": null,
      "outputs": []
    },
    {
      "cell_type": "code",
      "source": [
        "parameters"
      ],
      "metadata": {
        "colab": {
          "base_uri": "https://localhost:8080/"
        },
        "id": "1AG3AXQk6475",
        "outputId": "0c011f3e-e761-4190-e95f-e604a5e16312"
      },
      "execution_count": null,
      "outputs": [
        {
          "output_type": "execute_result",
          "data": {
            "text/plain": [
              "{'W1': array([[-5.02209439e+02,  4.16844333e-01, -5.01526904e+02],\n",
              "        [-5.01715984e+02,  8.64809399e-01, -5.01972101e+02],\n",
              "        [-5.01292146e+02,  2.23744046e-01, -5.01413702e+02]]),\n",
              " 'b1': array([-373.12904845, -373.29534843, -372.92794635]),\n",
              " 'W2': array([[-320.74688975, -320.29730294, -320.4841101 ],\n",
              "        [-320.44501204, -320.837123  , -320.41702322],\n",
              "        [-320.48737929, -320.38157605, -320.21901062],\n",
              "        [ 321.11588654,  320.99456354,  321.40881369]]),\n",
              " 'b2': array([-290.97458564, -291.54261196, -291.54392323,  292.66516015]),\n",
              " 'W3': array([[ 274.13441419,  274.1853554 ,  274.15825997,  274.60886359],\n",
              "        [-273.69203896, -273.63974896, -273.86688601, -273.88255217],\n",
              "        [ 274.44111331,  274.73704266,  274.47631749,  274.19662018],\n",
              "        [-273.80691887, -273.83440881, -273.10587649, -273.74579177],\n",
              "        [-273.32720278, -273.34693567, -273.58828681, -273.8477254 ]]),\n",
              " 'b3': array([ 263.04495981, -262.08388004,  263.01919125, -261.39810496,\n",
              "        -262.02249706]),\n",
              " 'W4': array([[-254.28089842, -253.43438741, -253.96628064, -253.38539686,\n",
              "         -253.37179106],\n",
              "        [-253.51846437, -254.1875386 , -253.77656709, -253.98403924,\n",
              "         -254.21314575],\n",
              "        [ 255.06938533,  255.02344006,  255.13231104,  254.70591821,\n",
              "          254.78043591]]),\n",
              " 'b4': array([-248.02112184, -248.72577131,  249.42058164])}"
            ]
          },
          "metadata": {},
          "execution_count": 88
        }
      ]
    },
    {
      "cell_type": "code",
      "source": [
        "X[0].shape, Y[0].shape"
      ],
      "metadata": {
        "colab": {
          "base_uri": "https://localhost:8080/"
        },
        "id": "zN91cC74nKVX",
        "outputId": "5e4681e4-c67d-45e1-dfc1-1de71b7b9a64"
      },
      "execution_count": null,
      "outputs": [
        {
          "output_type": "execute_result",
          "data": {
            "text/plain": [
              "((3,), (3,))"
            ]
          },
          "metadata": {},
          "execution_count": 137
        }
      ]
    },
    {
      "cell_type": "code",
      "source": [
        "Y_pred = []\n",
        "for x in X:\n",
        "    y_pred = list(evaluate(x, parameters, sigmoid, softmax))\n",
        "    Y_pred.append(y_pred)\n",
        "Y_pred = np.array(Y_pred)"
      ],
      "metadata": {
        "id": "V7OlYQ_heidr"
      },
      "execution_count": null,
      "outputs": []
    },
    {
      "cell_type": "code",
      "source": [
        "Y, Y_pred"
      ],
      "metadata": {
        "colab": {
          "base_uri": "https://localhost:8080/"
        },
        "id": "l2DJnDXce6x9",
        "outputId": "04813a0c-f115-4c08-d462-05bab7a7d3ca"
      },
      "execution_count": null,
      "outputs": [
        {
          "output_type": "execute_result",
          "data": {
            "text/plain": [
              "(array([[0, 0, 1]]), array([[0., 0., 1.]]))"
            ]
          },
          "metadata": {},
          "execution_count": 90
        }
      ]
    },
    {
      "cell_type": "markdown",
      "source": [
        "# Testing phase"
      ],
      "metadata": {
        "id": "vUvZUBc5fyFy"
      }
    },
    {
      "cell_type": "code",
      "source": [
        "# import numpy as np\n",
        "\n",
        "# # Original data\n",
        "# y = np.array([1, 2, 3, 4, 5, 6, 7, 8, 9, 0])\n",
        "\n",
        "# # Create X such that the index of the number of y is maximum in X\n",
        "# X = np.zeros((len(y), 10))  # Initialize X with zeros\n",
        "\n",
        "# beta = 0.85\n",
        "# for i in range(len(y)):\n",
        "#     max_index = y[i]  # Index of the number in y\n",
        "#     X[i, max_index] = beta  # Set the highest value in X\n",
        "#     X[i] += (1 - beta) / 9 # Add a small value to all elements to make sure they are not zero\n",
        "\n",
        "# print(\"X:\")\n",
        "# print(X)\n",
        "# print(\"Shape of X:\", X.shape)\n",
        "# print(\"y:\", y)\n",
        "# num_classes = 10\n",
        "# y_one_hot = np.eye(num_classes)[y]\n",
        "# y_one_hot\n",
        "\n",
        "import numpy as np\n",
        "\n",
        "X = np.array([\n",
        "    [0.1, 0.5, 0.2, 0.9, 0.3, 0.6, 0.4, 0.8, 0.7, 0.2],\n",
        "    [0.3, 0.2, 0.7, 0.4, 0.6, 0.8, 0.9, 0.5, 0.1, 0.3],\n",
        "    [0.8, 0.9, 0.4, 0.1, 0.5, 0.2, 0.7, 0.6, 0.3, 0.9],\n",
        "    [0.6, 0.2, 0.3, 0.7, 0.4, 0.1, 0.8, 0.9, 0.5, 0.6],\n",
        "    [0.5, 0.1, 0.8, 0.2, 0.9, 0.7, 0.3, 0.4, 0.6, 0.5],\n",
        "    [0.7, 0.3, 0.6, 0.5, 0.8, 0.4, 0.1, 0.2, 0.9, 0.7],\n",
        "    [0.2, 0.8, 0.1, 0.6, 0.4, 0.5, 0.7, 0.3, 0.2, 0.8],\n",
        "    [0.9, 0.6, 0.5, 0.3, 0.7, 0.2, 0.4, 0.1, 0.8, 0.6],\n",
        "    [0.4, 0.7, 0.9, 0.8, 0.2, 0.3, 0.6, 0.5, 0.1, 0.4],\n",
        "    [0.5, 0.3, 0.7, 0.4, 0.1, 0.8, 0.2, 0.6, 0.7, 0.5]\n",
        "])\n",
        "\n",
        "y = np.array([1, 0, 1, 0, 1, 0, 1, 0, 1, 0])\n",
        "\n",
        "print(\"X shape:\", X.shape)\n",
        "print(\"Original y:\", y)\n",
        "\n",
        "# Convert y to one-hot encoded vectors\n",
        "num_classes = len(np.unique(y))\n",
        "y_one_hot = np.eye(num_classes)[y]\n",
        "\n",
        "print(\"One-hot encoded y:\")\n",
        "print(y_one_hot)\n"
      ],
      "metadata": {
        "colab": {
          "base_uri": "https://localhost:8080/"
        },
        "id": "eDLEVE7Uf0cy",
        "outputId": "b1799b40-c53e-4d5e-e1af-5bd019185d1d"
      },
      "execution_count": null,
      "outputs": [
        {
          "output_type": "stream",
          "name": "stdout",
          "text": [
            "X shape: (10, 10)\n",
            "Original y: [1 0 1 0 1 0 1 0 1 0]\n",
            "One-hot encoded y:\n",
            "[[0. 1.]\n",
            " [1. 0.]\n",
            " [0. 1.]\n",
            " [1. 0.]\n",
            " [0. 1.]\n",
            " [1. 0.]\n",
            " [0. 1.]\n",
            " [1. 0.]\n",
            " [0. 1.]\n",
            " [1. 0.]]\n"
          ]
        }
      ]
    },
    {
      "cell_type": "code",
      "source": [
        "parameters = train(X, y_one_hot, 3000, [10], sigmoid, softmax, dsigmoid, d_cross_entropy, 0.01, adam)"
      ],
      "metadata": {
        "id": "1JGt69TcqWjf"
      },
      "execution_count": null,
      "outputs": []
    },
    {
      "cell_type": "code",
      "source": [
        "parameters"
      ],
      "metadata": {
        "colab": {
          "base_uri": "https://localhost:8080/"
        },
        "id": "fJEnY0jSgW1b",
        "outputId": "75b2dac0-0d3e-41e7-c017-44aabe4bfb6e"
      },
      "execution_count": null,
      "outputs": [
        {
          "output_type": "execute_result",
          "data": {
            "text/plain": [
              "{'W1': array([[ -2.51072087,   6.19766604,   0.67532679,  -0.99178004,\n",
              "           4.26468957,  -1.61609701,  -5.57679556,   1.00271536,\n",
              "           1.64213245,   1.07632908],\n",
              "        [ -2.44288028,  -3.39721088,   2.04884379,  -7.6637196 ,\n",
              "           4.30587898,   1.2795474 ,  -4.59169589,   1.53730854,\n",
              "          -0.14477385,  -0.09671343],\n",
              "        [ -5.68646646,   2.71630869,   1.48319004,  -2.61143038,\n",
              "           5.52352841,   2.18021446,   4.77360728,   2.98010979,\n",
              "          -4.7730624 ,  -2.89451556],\n",
              "        [ -2.43524232,  -3.18139909,   1.45336449,  -7.33256972,\n",
              "           4.26204423,   1.40242954,  -4.66638533,   1.52323293,\n",
              "          -0.25857428,  -0.06945312],\n",
              "        [ -5.72020058,   3.42649823,   1.68299755,  -2.60292743,\n",
              "           5.22512958,   3.04507946,   3.69233077,   2.52104526,\n",
              "          -5.11112125,  -2.54772547],\n",
              "        [ -2.62817088,  -3.05082959,   1.91350118,  -7.32940427,\n",
              "           4.36178001,   0.64396745,  -4.49615928,   2.00979363,\n",
              "          -0.1294903 ,  -0.10844144],\n",
              "        [  5.12653362, -13.13274768,   3.12946753,  -2.97059151,\n",
              "           3.46644513,   3.43431984,   1.81993391,  -1.72915674,\n",
              "           2.88185112,  -0.16684408],\n",
              "        [  4.83354275, -12.22381946,   3.00692452,  -2.90834923,\n",
              "           2.7436232 ,   3.38385534,   2.36522744,  -1.94711017,\n",
              "           3.20573499,  -0.20580212],\n",
              "        [  4.77303745, -12.68035893,   3.07859246,  -2.83814183,\n",
              "           2.93390548,   3.18661049,   2.13494667,  -2.05296036,\n",
              "           3.0575825 ,  -0.04463465],\n",
              "        [  5.24835014, -13.74379764,   3.39955386,  -3.05414761,\n",
              "           3.30054766,   3.35264052,   2.02391156,  -1.74037215,\n",
              "           3.15129251,  -0.04007403]]),\n",
              " 'b1': array([0.37679624, 0.15501174, 0.85864855, 0.47304945, 0.74655668,\n",
              "        0.33126129, 0.54058014, 0.26028086, 0.63582291, 0.49420149]),\n",
              " 'W2': array([[-2.53770423, -3.41020128, -2.28586382, -3.52187379, -1.94746565,\n",
              "         -3.80202652,  3.72193544,  3.6819045 ,  3.50036993,  3.6503617 ],\n",
              "        [ 4.01035383,  4.1969938 ,  2.69647668,  4.42692749,  2.7634962 ,\n",
              "          3.99447626, -2.29317184, -2.64380813, -2.42940192, -2.31167587]]),\n",
              " 'b2': array([0.95552614, 0.44991346])}"
            ]
          },
          "metadata": {},
          "execution_count": 93
        }
      ]
    },
    {
      "cell_type": "code",
      "source": [
        "Y_pred = []\n",
        "for x in X:\n",
        "    y_pred = list(evaluate(x, parameters, sigmoid, softmax))\n",
        "    Y_pred.append(y_pred)\n",
        "Y_pred = np.array(Y_pred)"
      ],
      "metadata": {
        "id": "qJtYlqEsqct7"
      },
      "execution_count": null,
      "outputs": []
    },
    {
      "cell_type": "code",
      "source": [
        "Y_pred, y_one_hot"
      ],
      "metadata": {
        "colab": {
          "base_uri": "https://localhost:8080/"
        },
        "id": "ZXn67QtrqptM",
        "outputId": "fe4d499c-ba46-4008-f5fd-d259ebe12de1"
      },
      "execution_count": null,
      "outputs": [
        {
          "output_type": "execute_result",
          "data": {
            "text/plain": [
              "(array([[1.06046168e-06, 9.99998940e-01],\n",
              "        [9.99996379e-01, 3.62106986e-06],\n",
              "        [7.16625520e-07, 9.99999283e-01],\n",
              "        [9.99999647e-01, 3.52673575e-07],\n",
              "        [3.49575888e-06, 9.99996504e-01],\n",
              "        [9.99998245e-01, 1.75539432e-06],\n",
              "        [2.44181581e-07, 9.99999756e-01],\n",
              "        [9.99999870e-01, 1.29693404e-07],\n",
              "        [7.91537154e-07, 9.99999208e-01],\n",
              "        [9.99999282e-01, 7.17695289e-07]]),\n",
              " array([[0., 1.],\n",
              "        [1., 0.],\n",
              "        [0., 1.],\n",
              "        [1., 0.],\n",
              "        [0., 1.],\n",
              "        [1., 0.],\n",
              "        [0., 1.],\n",
              "        [1., 0.],\n",
              "        [0., 1.],\n",
              "        [1., 0.]]))"
            ]
          },
          "metadata": {},
          "execution_count": 95
        }
      ]
    },
    {
      "cell_type": "code",
      "source": [
        "for i in Y_pred:\n",
        "    print(i.argmax())"
      ],
      "metadata": {
        "colab": {
          "base_uri": "https://localhost:8080/"
        },
        "id": "SHx8bbtKrwWb",
        "outputId": "7a04b372-5cc7-4fc7-a75b-10b624b1eaa3"
      },
      "execution_count": null,
      "outputs": [
        {
          "output_type": "stream",
          "name": "stdout",
          "text": [
            "1\n",
            "0\n",
            "1\n",
            "0\n",
            "1\n",
            "0\n",
            "1\n",
            "0\n",
            "1\n",
            "0\n"
          ]
        }
      ]
    },
    {
      "cell_type": "markdown",
      "source": [
        "# Loading fashion mnist"
      ],
      "metadata": {
        "id": "mgzGa1ZfvRzb"
      }
    },
    {
      "cell_type": "code",
      "source": [
        "import numpy as np\n",
        "import matplotlib.pyplot as plt\n",
        "import pandas as pd"
      ],
      "metadata": {
        "id": "Spi6U6d1vT1Z"
      },
      "execution_count": null,
      "outputs": []
    },
    {
      "cell_type": "code",
      "source": [
        "from keras.datasets import fashion_mnist"
      ],
      "metadata": {
        "id": "uS02gTryvUXi"
      },
      "execution_count": null,
      "outputs": []
    },
    {
      "cell_type": "code",
      "source": [
        "(X_train, y_train), (X_test, y_test) = fashion_mnist.load_data()"
      ],
      "metadata": {
        "id": "S5EfFIWGvXU6"
      },
      "execution_count": null,
      "outputs": []
    },
    {
      "cell_type": "code",
      "source": [
        "X_train.shape"
      ],
      "metadata": {
        "colab": {
          "base_uri": "https://localhost:8080/"
        },
        "id": "aUXsFxvAvZso",
        "outputId": "20a257a4-549d-43b6-cc60-5a068652af88"
      },
      "execution_count": null,
      "outputs": [
        {
          "output_type": "execute_result",
          "data": {
            "text/plain": [
              "(60000, 28, 28)"
            ]
          },
          "metadata": {},
          "execution_count": 6
        }
      ]
    },
    {
      "cell_type": "code",
      "source": [
        "plt.imshow(X_train[0])"
      ],
      "metadata": {
        "colab": {
          "base_uri": "https://localhost:8080/",
          "height": 447
        },
        "id": "G4WFq7RuvcFk",
        "outputId": "697e7012-d851-48e7-85b5-ff8af50a60aa"
      },
      "execution_count": null,
      "outputs": [
        {
          "output_type": "execute_result",
          "data": {
            "text/plain": [
              "<matplotlib.image.AxesImage at 0x788e5ffbb8e0>"
            ]
          },
          "metadata": {},
          "execution_count": 7
        },
        {
          "output_type": "display_data",
          "data": {
            "text/plain": [
              "<Figure size 640x480 with 1 Axes>"
            ],
            "image/png": "[encoded data removed]"
          },
          "metadata": {}
        }
      ]
    },
    {
      "cell_type": "code",
      "source": [
        "y_train.shape"
      ],
      "metadata": {
        "colab": {
          "base_uri": "https://localhost:8080/"
        },
        "id": "_GUTafT-vfZh",
        "outputId": "e94cfbed-bb91-483c-c204-71a8b75485f2"
      },
      "execution_count": null,
      "outputs": [
        {
          "output_type": "execute_result",
          "data": {
            "text/plain": [
              "(60000,)"
            ]
          },
          "metadata": {},
          "execution_count": 8
        }
      ]
    },
    {
      "cell_type": "code",
      "source": [
        "set(y_train)"
      ],
      "metadata": {
        "colab": {
          "base_uri": "https://localhost:8080/"
        },
        "id": "b-rj2-8avhTh",
        "outputId": "9f6ca135-0169-4fba-be0c-f6e8f61a391e"
      },
      "execution_count": null,
      "outputs": [
        {
          "output_type": "execute_result",
          "data": {
            "text/plain": [
              "{0, 1, 2, 3, 4, 5, 6, 7, 8, 9}"
            ]
          },
          "metadata": {},
          "execution_count": 9
        }
      ]
    },
    {
      "cell_type": "code",
      "source": [
        "X_train_flat = X_train.reshape(X_train.shape[0], -1)\n",
        "X_test_flat = X_test.reshape(X_test.shape[0], -1)\n",
        "\n",
        "\n",
        "X_train_flat = X_train_flat / 255.0\n",
        "X_test_flat = X_test_flat / 255.0"
      ],
      "metadata": {
        "id": "OZZsyC7CvjH8"
      },
      "execution_count": null,
      "outputs": []
    },
    {
      "cell_type": "code",
      "source": [
        "from keras.utils import to_categorical\n",
        "\n",
        "\n",
        "y_train = to_categorical(y_train, num_classes=10)\n",
        "y_test = to_categorical(y_test, num_classes = 10)"
      ],
      "metadata": {
        "id": "DdgDUpaVvlKH"
      },
      "execution_count": null,
      "outputs": []
    },
    {
      "cell_type": "code",
      "source": [
        "fashionMnist_parameters = train(X_train_flat, y_train, 5, [64], sigmoid, softmax, dsigmoid, d_cross_entropy, 0.001, adam)"
      ],
      "metadata": {
        "id": "C9ef818CvmGL"
      },
      "execution_count": null,
      "outputs": []
    },
    {
      "cell_type": "code",
      "source": [
        "fashionMnist_parameters"
      ],
      "metadata": {
        "colab": {
          "base_uri": "https://localhost:8080/"
        },
        "id": "oajSUWbJwwxh",
        "outputId": "0d3133fa-dc1e-48f4-f5b0-711fab2efab2"
      },
      "execution_count": null,
      "outputs": [
        {
          "output_type": "execute_result",
          "data": {
            "text/plain": [
              "{'W1': array([[ 8.38879649e-01,  1.44019609e-01,  2.65751661e-01, ...,\n",
              "          6.74486898e-01,  5.32977048e-01,  1.32034955e-01],\n",
              "        [ 9.41988168e-01,  2.19921101e-01, -9.36582080e+00, ...,\n",
              "         -2.74078673e+01, -1.29132339e+01,  7.60047202e+00],\n",
              "        [ 6.43922448e-01,  6.79641490e-02,  1.03424794e-01, ...,\n",
              "          5.85853695e-01,  6.62184704e-01,  6.85290432e-01],\n",
              "        ...,\n",
              "        [ 7.23274190e-01,  3.09147602e-01,  4.68303051e-01, ...,\n",
              "          7.40051250e-01,  9.37840545e-01,  6.52255889e-01],\n",
              "        [ 7.47423546e-01,  2.47340740e-02,  3.55520381e-02, ...,\n",
              "          6.30968545e-01,  7.19718002e-01,  5.21504904e-01],\n",
              "        [ 3.15625551e-01,  5.86222809e-01,  1.95458537e-01, ...,\n",
              "         -9.44823916e+00,  5.77019157e-01,  9.97034499e-01]]),\n",
              " 'b1': array([  -4.07578159,  -28.61935033,   -7.08616354,   -7.36777967,\n",
              "          -8.29936342,   -7.33414851,   -7.37198096,   10.3921396 ,\n",
              "          -7.46948387,   -7.36859195,   -7.22520461,   -6.80147539,\n",
              "          -9.385543  ,   -6.76975543,   -7.45108228,   -7.84182941,\n",
              "          -7.44237974,   -6.72613654,  -14.62479109,   -7.4469881 ,\n",
              "          -7.38724683,   -7.25795308,   16.75467132,   -6.52635011,\n",
              "          17.04354528,  -14.46850075,  -13.4130897 ,   -6.71350233,\n",
              "          -7.51513586,   -7.12111823,  -23.46485753,   -6.90017481,\n",
              "          -7.41007629,   47.05797657,   -7.19098722,   -7.32358759,\n",
              "          -6.75389471,   -7.25596474,   -7.21104876,   -7.28035137,\n",
              "          11.47529909,   -6.98199303,   -7.4309706 ,   -8.14158522,\n",
              "          -6.77758282, -104.11429156,   -7.35923249,   -6.97417964,\n",
              "          -7.50247185,   -7.48029767,   -7.31841703,   -7.4184521 ,\n",
              "          -7.27406867,   -6.80501805,   -6.58200811,   -7.28978523,\n",
              "         -13.98353278,   -8.13243441,   -6.52641592,  -17.24771106,\n",
              "          -8.14720184,   -7.38328008,   -7.28080495,  -42.85673719]),\n",
              " 'W2': array([[ 1.97203810e+00, -5.21270949e+01,  3.27926925e+00,\n",
              "          3.37761692e+00, -1.26625158e+00,  3.18096384e+00,\n",
              "          2.99270278e+00,  5.13459849e+00,  3.21352502e+00,\n",
              "          2.95294881e+00,  2.91827897e+00,  3.07469206e+00,\n",
              "          3.33219120e+00,  3.53217591e+00,  3.32150720e+00,\n",
              "          1.00234283e+00, -3.67870759e+00,  3.19323428e+00,\n",
              "          1.31443224e+00,  3.57034853e+00,  3.04779346e+00,\n",
              "          3.60690796e+00,  4.92237910e+00,  3.30642147e+00,\n",
              "          1.97926290e+00,  5.93216887e+00,  2.56685940e+00,\n",
              "          2.89834379e+00,  3.33640433e+00,  2.85492206e+00,\n",
              "         -1.67590815e+01,  3.41154484e+00,  2.83169099e+00,\n",
              "         -2.88647068e+01,  3.63493328e+00,  3.23068878e+00,\n",
              "          3.10086228e+00,  3.02970338e+00,  2.99158104e+00,\n",
              "          3.22686051e+00,  2.59600648e+00,  3.21798910e+00,\n",
              "          1.24737191e+00,  2.84655685e+00,  2.98027339e+00,\n",
              "         -2.70567981e+01,  3.41975840e+00,  2.89154913e+00,\n",
              "          3.32218205e+00,  2.87750582e+00,  3.39801978e+00,\n",
              "          1.18245073e+00,  2.92814620e+00,  3.26639661e+00,\n",
              "          2.69212909e+00,  3.06510076e+00,  3.11228506e+00,\n",
              "          3.55389183e+00,  2.94463707e+00, -4.09145774e+01,\n",
              "          3.09904450e+00,  2.90125553e+00,  3.06987293e+00,\n",
              "         -1.84686083e+01],\n",
              "        [-1.34251829e-01, -3.06810976e+01, -1.89487445e-01,\n",
              "          1.56530225e-01,  2.82098679e-01,  3.06785832e-01,\n",
              "          3.88943329e-01,  2.12463777e+00,  7.37107062e-02,\n",
              "         -2.41582258e-02, -4.86042891e-02,  5.53383286e-01,\n",
              "          1.04623278e-01,  1.85883305e-01, -3.19233395e-01,\n",
              "          4.69400709e-01, -9.75886149e+00,  5.03726991e-01,\n",
              "         -1.92954998e-01,  4.36974673e-01,  1.24387969e-01,\n",
              "          1.34564191e-01,  5.43650205e+00,  3.16728609e-01,\n",
              "          8.74738709e-01, -6.97235043e-01,  4.60884026e+00,\n",
              "         -4.74681617e-02,  5.64467080e-01, -3.55245158e-01,\n",
              "         -2.00572364e+01,  1.98807717e-02,  7.72854358e-03,\n",
              "         -6.94619985e+01, -3.71661922e-01,  2.35641606e-01,\n",
              "          2.84120615e-01, -1.20658945e-01, -1.80640931e-01,\n",
              "          3.15403219e-01,  2.17269868e+00,  4.92752649e-01,\n",
              "         -1.68506833e-01,  5.87049990e-01,  6.07240235e-01,\n",
              "         -4.20434682e+01, -1.62080971e-01,  2.23265272e-01,\n",
              "          9.93546141e-02, -1.34951234e-01, -4.77831456e-02,\n",
              "          7.16448753e-02,  1.00332992e-01,  2.19391035e-01,\n",
              "         -1.67195324e-01,  2.07997223e-01,  1.86327041e-02,\n",
              "          1.24405201e-01, -2.94197423e-01, -6.71735837e+01,\n",
              "         -2.65545156e-01,  6.13971993e-03,  1.23084606e-01,\n",
              "         -6.63711223e+00],\n",
              "        [-5.18280188e+00, -4.64453253e+01,  3.23065265e-01,\n",
              "          6.16151862e-01,  1.70050559e+00,  1.95470293e-01,\n",
              "          1.26175303e-01,  3.62190272e+00,  2.15118339e-01,\n",
              "          6.78458039e-01,  4.54997525e-01,  7.27583064e-01,\n",
              "          1.24460061e-01,  8.31714145e-01,  8.01952229e-01,\n",
              "          8.59246670e-01, -1.03688911e+01,  8.73946316e-01,\n",
              "          2.42457239e+00,  6.32156703e-01,  9.71585353e-01,\n",
              "          3.61234407e-01,  7.90284717e+00,  5.44542629e-01,\n",
              "          3.29639456e+00, -2.29048771e+00, -9.11030387e-01,\n",
              "          3.15837134e-01,  3.51729874e-01,  1.01242398e+00,\n",
              "         -2.20221820e+01,  4.49752529e-01,  5.75747266e-01,\n",
              "         -3.72380573e+01,  9.39750067e-01,  7.84716708e-01,\n",
              "          9.25891785e-02,  6.84870368e-02,  3.75730079e-01,\n",
              "          4.41398304e-01,  3.72402890e+00,  4.55061374e-02,\n",
              "          2.66379620e+00,  6.68434489e-01,  6.92497360e-01,\n",
              "         -3.40683119e+01,  3.60008643e-01,  3.26139237e-02,\n",
              "          9.61501457e-01,  6.70911984e-01,  4.49299132e-01,\n",
              "          3.96491188e-01,  9.59535453e-01,  8.75773197e-01,\n",
              "          3.68160729e-01,  1.87781533e-01,  7.70400952e-01,\n",
              "          5.77781221e-01,  2.75282292e-01, -3.48571720e+01,\n",
              "          1.53415279e-01,  1.85641897e-01,  4.70510984e-01,\n",
              "          1.37086703e+01],\n",
              "        [-1.14914396e+00, -4.17074501e+01, -1.94414817e+00,\n",
              "         -1.25929078e+00,  1.44005848e+00, -1.16828765e+00,\n",
              "         -1.66820234e+00,  1.80477250e+00, -1.81723212e+00,\n",
              "         -1.10638364e+00, -1.46636667e+00, -1.47803312e+00,\n",
              "         -1.69615242e+00, -1.51907630e+00, -1.90627014e+00,\n",
              "         -1.28479588e+00, -1.42208488e+01, -1.42518855e+00,\n",
              "         -1.94615354e+00, -1.52317985e+00, -1.22867142e+00,\n",
              "         -1.34291863e+00,  6.73432714e+00, -1.35444931e+00,\n",
              "          1.92944755e+00, -1.44118989e+00,  1.50633632e-01,\n",
              "         -1.20761338e+00, -1.62436587e+00, -1.60938818e+00,\n",
              "         -1.77383907e+01, -1.44626619e+00, -1.33795976e+00,\n",
              "         -4.86868814e+01, -1.58177547e+00, -1.64222683e+00,\n",
              "         -2.00049668e+00, -1.38838705e+00, -1.92675241e+00,\n",
              "         -1.10234621e+00,  2.91695209e+00, -1.53753258e+00,\n",
              "         -1.19698759e+00, -2.03375801e+00, -1.18201679e+00,\n",
              "         -4.32760146e+01, -1.37471255e+00, -1.35944517e+00,\n",
              "         -1.83832508e+00, -1.78595733e+00, -1.74830601e+00,\n",
              "         -1.15244358e+00, -1.35202775e+00, -1.63101723e+00,\n",
              "         -1.07561618e+00, -1.75068752e+00, -2.00246136e+00,\n",
              "         -1.37192207e+00, -1.43977746e+00, -5.34264709e+01,\n",
              "         -1.75007372e+00, -1.48723345e+00, -1.49760720e+00,\n",
              "         -1.72956081e+01],\n",
              "        [-5.22681010e+00, -4.72634877e+01, -5.17811578e+00,\n",
              "         -5.63383029e+00, -4.88075003e+00, -4.75693352e+00,\n",
              "         -5.56860278e+00,  2.35174237e+00, -4.91448580e+00,\n",
              "         -4.98469145e+00, -5.01782613e+00, -5.58764842e+00,\n",
              "         -4.93629890e+00, -4.90400320e+00, -4.93769734e+00,\n",
              "         -5.71208181e+00, -1.61337132e+01, -4.88989790e+00,\n",
              "         -5.15778007e+00, -5.58481364e+00, -5.60044110e+00,\n",
              "         -5.64547512e+00,  7.95089090e+00, -5.08041340e+00,\n",
              "          1.75820736e+00, -4.89656406e+00, -1.98601963e+00,\n",
              "         -5.24702021e+00, -4.85002226e+00, -5.00207007e+00,\n",
              "         -2.58379473e+01, -5.47049868e+00, -5.39775109e+00,\n",
              "         -5.81118515e+01, -5.67736155e+00, -5.44714376e+00,\n",
              "         -5.67441815e+00, -5.53755034e+00, -5.38384773e+00,\n",
              "         -5.12434071e+00,  4.26392080e+00, -5.49168035e+00,\n",
              "         -5.46633674e+00, -4.92762866e+00, -5.45699073e+00,\n",
              "         -2.82981791e+01, -5.34839363e+00, -5.68686891e+00,\n",
              "         -4.96649073e+00, -5.08348728e+00, -5.04320345e+00,\n",
              "         -4.85483048e+00, -5.41747983e+00, -5.56397955e+00,\n",
              "         -5.72068390e+00, -5.11974042e+00, -5.11910383e+00,\n",
              "         -4.90469615e+00, -5.06459449e+00, -3.67476287e+01,\n",
              "         -5.02498778e+00, -5.41021155e+00, -4.83986197e+00,\n",
              "         -1.27139514e+01],\n",
              "        [ 1.11798545e+01, -9.25858389e+01,  2.41030185e-01,\n",
              "          6.02952704e-01,  1.80234640e+00,  1.02835789e+00,\n",
              "          8.07216191e-01, -1.18459896e-01,  3.62531986e-01,\n",
              "          3.72638593e-01,  8.22378023e-01,  3.11501316e-01,\n",
              "         -3.51481694e-01,  6.23975497e-01,  7.15545892e-01,\n",
              "          2.24474742e+00, -7.16496236e+00,  3.17167941e-01,\n",
              "          8.24606119e-01,  3.85818658e-01,  8.77545672e-01,\n",
              "          6.56188532e-01,  7.08757377e+00,  7.76810729e-01,\n",
              "          5.84381396e+00,  8.67932777e-01, -4.98776580e+00,\n",
              "          7.09123555e-01,  4.06296361e-01,  1.42091276e-01,\n",
              "         -2.47968730e+01,  1.02004503e+00,  3.49571603e-01,\n",
              "         -1.01313412e+01,  8.37728547e-01,  1.64630415e-01,\n",
              "          9.54173575e-01,  5.38775827e-01,  2.35195863e-01,\n",
              "          1.03137485e+00, -6.59336916e+00,  6.40949732e-01,\n",
              "          2.89619105e-01,  9.89211426e-01,  1.01077539e-01,\n",
              "         -2.99843552e+01,  9.23720198e-01,  8.76138909e-01,\n",
              "          1.06699943e+00,  1.02730362e+00,  9.12879746e-01,\n",
              "          2.26917877e+00,  6.63420261e-01,  9.75206378e-01,\n",
              "          4.13336124e-01,  1.31265855e-01,  2.49501290e-01,\n",
              "          8.14422773e-01,  2.07736174e-01, -3.00840724e+01,\n",
              "          9.81299660e-01,  8.15564760e-01,  1.98741085e-01,\n",
              "         -6.42740774e+00],\n",
              "        [-7.93004472e+00, -4.71476415e+01, -1.09820198e+00,\n",
              "         -1.36523736e+00,  5.54388010e-01, -1.46200088e+00,\n",
              "         -1.76836875e+00,  3.79976942e+00, -1.09764767e+00,\n",
              "         -1.04570113e+00, -1.71317533e+00, -1.30776905e+00,\n",
              "         -1.42397900e+00, -1.20657787e+00, -1.37041353e+00,\n",
              "         -1.87137093e+00, -1.29100662e+01, -9.72620432e-01,\n",
              "         -1.26332579e+00, -1.20313423e+00, -1.45347322e+00,\n",
              "         -1.54064701e+00,  6.57050900e+00, -9.52070439e-01,\n",
              "          3.66057560e+00, -1.47475290e+00, -1.38728784e+00,\n",
              "         -1.56809789e+00, -1.48789522e+00, -1.75334503e+00,\n",
              "         -2.18827550e+01, -1.51717498e+00, -1.43136365e+00,\n",
              "         -2.70524634e+01, -1.60101230e+00, -1.35837978e+00,\n",
              "         -1.69331930e+00, -9.83810793e-01, -1.29576367e+00,\n",
              "         -9.40526555e-01,  3.98706128e+00, -1.12860706e+00,\n",
              "         -1.77988638e+00, -1.07991685e+00, -1.81113912e+00,\n",
              "         -3.22330128e+01, -1.70797793e+00, -1.61445635e+00,\n",
              "         -1.23234122e+00, -1.53403485e+00, -1.20006790e+00,\n",
              "         -1.50515267e+00, -1.52274139e+00, -1.08167676e+00,\n",
              "         -1.24198493e+00, -1.04508580e+00, -1.48989801e+00,\n",
              "         -1.21166771e+00, -1.12690657e+00, -3.75117223e+01,\n",
              "         -1.32267297e+00, -1.88210938e+00, -1.38996836e+00,\n",
              "         -2.16270331e+01],\n",
              "        [-1.59827390e+01, -2.08759830e+02, -2.89729399e+00,\n",
              "         -2.63383171e+00, -5.05509773e-01, -2.32749843e+00,\n",
              "         -2.27078242e+00,  1.70990099e+00, -2.49722118e+00,\n",
              "         -2.12882570e+00, -2.24926245e+00, -3.10330279e+00,\n",
              "         -1.91218658e+00, -2.35171057e+00, -2.78908563e+00,\n",
              "         -2.15276134e+00, -1.19613628e+01, -2.61004279e+00,\n",
              "         -2.50320478e+00, -3.08459475e+00, -2.57975285e+00,\n",
              "         -2.37720939e+00,  9.63726634e+00, -2.76250376e+00,\n",
              "         -9.42824268e+00, -2.18223891e+00, -3.12601183e+00,\n",
              "         -2.84517360e+00, -2.45734050e+00, -2.83599073e+00,\n",
              "         -4.70228259e+01, -2.38131526e+00, -2.40639938e+00,\n",
              "         -1.54527925e+00, -2.99409265e+00, -2.85658283e+00,\n",
              "         -2.66816526e+00, -2.29594276e+00, -3.03742788e+00,\n",
              "         -2.69021309e+00, -4.06936995e+00, -2.52680352e+00,\n",
              "         -2.70892459e+00, -2.51143685e+00, -3.09981504e+00,\n",
              "         -3.69891554e+01, -2.72835003e+00, -2.35329688e+00,\n",
              "         -2.99835761e+00, -2.88128565e+00, -2.80918147e+00,\n",
              "         -2.87172538e+00, -2.89529159e+00, -2.59641681e+00,\n",
              "         -2.68833377e+00, -2.62208872e+00, -2.19074676e+00,\n",
              "         -2.22679829e+00, -2.44135851e+00, -4.01584669e+01,\n",
              "         -2.24599444e+00, -2.46592838e+00, -3.07610550e+00,\n",
              "         -5.35293609e+00],\n",
              "        [-1.49896611e+01, -4.97726712e+01,  4.38617340e-01,\n",
              "          2.80243428e-01, -2.94223652e+00, -2.84829467e-01,\n",
              "          6.48682294e-01,  1.60289434e+00, -3.05842153e-01,\n",
              "          1.71769575e-01, -1.46488573e-01, -1.53541775e-01,\n",
              "         -1.46355996e-01,  9.14241485e-02,  3.36409777e-01,\n",
              "         -1.33575209e-01,  5.54254030e+00, -8.23523202e-02,\n",
              "          4.71122153e-01,  4.43703999e-01, -1.97906178e-01,\n",
              "          1.11593779e-01,  1.01506519e+01,  3.80581837e-01,\n",
              "          4.40365204e-01, -8.52016433e-02,  6.11362918e-01,\n",
              "          3.32683857e-01,  6.39150628e-01, -1.15434508e-01,\n",
              "         -2.82011349e+01,  5.46755270e-01,  1.55344083e-01,\n",
              "         -1.84119661e+01,  3.86010034e-01, -1.41791543e-01,\n",
              "          9.88374016e-02,  3.28922218e-01, -1.97930323e-01,\n",
              "         -4.14399128e-02,  2.56615880e+00,  3.12736689e-01,\n",
              "         -3.09709073e-01,  9.87088709e-02,  8.34060848e-02,\n",
              "         -3.80020322e+01,  3.58885874e-02,  7.55078880e-02,\n",
              "         -5.57482210e-02,  3.11851903e-01,  3.84288013e-02,\n",
              "          2.35725026e-01,  5.53157857e-01,  1.61279096e-01,\n",
              "          2.41603711e-01,  4.72374390e-01,  4.48493558e-01,\n",
              "          1.16632798e-01,  2.39558326e-01, -2.88844183e+01,\n",
              "         -3.44610239e-01,  1.18722100e-01,  4.98935749e-01,\n",
              "         -2.13757147e+01],\n",
              "        [-1.14756500e+01, -1.76726922e+02, -2.01685645e+00,\n",
              "         -2.02449242e+00, -6.31348679e+00, -1.78477394e+00,\n",
              "         -2.21997259e+00, -2.26762350e-01, -1.56370798e+00,\n",
              "         -1.77173103e+00, -2.06564372e+00, -2.00313538e+00,\n",
              "         -1.81140695e+00, -1.93157985e+00, -2.38265341e+00,\n",
              "         -1.61748736e+00, -3.76978655e+00, -2.01172472e+00,\n",
              "         -2.09971297e+00, -1.71365330e+00, -1.84821160e+00,\n",
              "         -2.31689381e+00,  5.10599821e+00, -2.42238519e+00,\n",
              "          1.59057318e+00, -1.63254283e+00, -2.76500846e+00,\n",
              "         -2.50023274e+00, -2.50139474e+00, -2.04512876e+00,\n",
              "         -2.78820045e+01, -1.71297599e+00, -2.18989035e+00,\n",
              "         -9.99643310e+00, -2.36608784e+00, -1.90068201e+00,\n",
              "         -1.84290800e+00, -2.44919223e+00, -1.64600208e+00,\n",
              "         -2.27909999e+00,  3.48707321e+00, -2.44117596e+00,\n",
              "         -2.08900412e+00, -2.45974512e+00, -1.91180230e+00,\n",
              "         -4.03869318e+01, -1.60355725e+00, -2.20117280e+00,\n",
              "         -2.14943792e+00, -2.23034735e+00, -2.30706625e+00,\n",
              "         -2.41596626e+00, -1.59949659e+00, -1.81369951e+00,\n",
              "         -2.14764907e+00, -2.33416875e+00, -2.30961410e+00,\n",
              "         -2.30210838e+00, -2.32205300e+00, -3.56513616e+01,\n",
              "         -1.93407031e+00, -2.13136971e+00, -2.25949775e+00,\n",
              "         -8.19705900e+00]]),\n",
              " 'b2': array([ 3.54645451,  5.12698915,  4.88062274,  5.60774882,  7.27507412,\n",
              "         8.92488483,  4.21774374, 11.49669052,  7.8541238 ,  6.01899705])}"
            ]
          },
          "metadata": {},
          "execution_count": 104
        }
      ]
    },
    {
      "cell_type": "code",
      "source": [
        "Y_pred = []\n",
        "error = 0\n",
        "for i, x in enumerate(X_train_flat):\n",
        "    y_pred = list(evaluate(x, fashionMnist_parameters, sigmoid, softmax))\n",
        "    Y_pred.append(y_pred)\n",
        "    error += cross_entropy(y_pred, y_train[i])\n",
        "Y_pred = np.array(Y_pred)"
      ],
      "metadata": {
        "id": "LRARnCr7xroH"
      },
      "execution_count": null,
      "outputs": []
    },
    {
      "cell_type": "code",
      "source": [
        "error"
      ],
      "metadata": {
        "colab": {
          "base_uri": "https://localhost:8080/"
        },
        "id": "AEGbvK-Jx0g4",
        "outputId": "cd1f8cb1-2a23-46d3-a053-3a4f0aab1fbe"
      },
      "execution_count": null,
      "outputs": [
        {
          "output_type": "execute_result",
          "data": {
            "text/plain": [
              "99762.56539697199"
            ]
          },
          "metadata": {},
          "execution_count": 106
        }
      ]
    },
    {
      "cell_type": "code",
      "source": [
        "Y_pred[1], y_train[0]"
      ],
      "metadata": {
        "colab": {
          "base_uri": "https://localhost:8080/"
        },
        "id": "NCeDY9dVzIej",
        "outputId": "04fcf882-082b-4657-e100-649b13e132f9"
      },
      "execution_count": null,
      "outputs": [
        {
          "output_type": "execute_result",
          "data": {
            "text/plain": [
              "(array([3.11888105e-01, 1.00135541e-03, 3.06935809e-01, 2.64510755e-01,\n",
              "        8.04388986e-03, 4.84695323e-06, 1.07332185e-01, 3.27140730e-18,\n",
              "        2.82545318e-04, 5.08980598e-07]),\n",
              " array([0., 0., 0., 0., 0., 0., 0., 0., 0., 1.], dtype=float32))"
            ]
          },
          "metadata": {},
          "execution_count": 107
        }
      ]
    },
    {
      "cell_type": "markdown",
      "source": [
        "# Torch Example"
      ],
      "metadata": {
        "id": "1uuO-ipj3E9A"
      }
    },
    {
      "cell_type": "code",
      "source": [
        "import torch\n",
        "import torch.nn as nn\n",
        "import torch.optim as optim\n",
        "import numpy as np\n",
        "\n",
        "# Define the neural network model\n",
        "class NeuralNetwork(nn.Module):\n",
        "    def __init__(self, input_size, hidden_layers, output_size):\n",
        "        super(NeuralNetwork, self).__init__()\n",
        "        layers = []\n",
        "        layers.append(nn.Linear(input_size, hidden_layers[0]))\n",
        "        layers.append(nn.Sigmoid())\n",
        "        for i in range(1, len(hidden_layers)):\n",
        "            layers.append(nn.Linear(hidden_layers[i - 1], hidden_layers[i]))\n",
        "            layers.append(nn.Sigmoid())\n",
        "        layers.append(nn.Linear(hidden_layers[-1], output_size))\n",
        "        self.model = nn.Sequential(*layers)\n",
        "\n",
        "    def forward(self, x):\n",
        "        return self.model(x)\n",
        "\n",
        "def get_model_parameters(model):\n",
        "    parameters = {}\n",
        "    for name, param in model.named_parameters():\n",
        "        parameters[name] = param.detach().numpy()\n",
        "    return parameters\n",
        "\n",
        "# Define the training function\n",
        "def train(X, Y, epochs, hidden_layers, eta):\n",
        "    input_size = X.shape[1]\n",
        "    output_size = Y.shape[1]\n",
        "    model = NeuralNetwork(input_size, hidden_layers, output_size)\n",
        "    criterion = nn.CrossEntropyLoss()\n",
        "    optimizer = optim.SGD(model.parameters(), lr=eta)\n",
        "\n",
        "    for epoch in range(epochs):\n",
        "        optimizer.zero_grad()\n",
        "        outputs = model(X)\n",
        "        loss = criterion(outputs, torch.argmax(Y, axis=1))\n",
        "        loss.backward()\n",
        "        optimizer.step()\n",
        "\n",
        "\n",
        "        print(f\"Epoch [{epoch}/{epochs}], Loss: {loss.item()}\")\n",
        "    return get_model_parameters(model)\n",
        "\n",
        "\n"
      ],
      "metadata": {
        "id": "j81zBvAk3GYz"
      },
      "execution_count": null,
      "outputs": []
    },
    {
      "cell_type": "code",
      "source": [
        "train(torch.tensor(X_train_flat, dtype = torch.float), torch.tensor(y_train), 50, [10], 0.01)"
      ],
      "metadata": {
        "colab": {
          "base_uri": "https://localhost:8080/"
        },
        "id": "AZt6UV4Y3Zh0",
        "outputId": "97f2bbe5-3913-4184-c220-918ef7fd83ae"
      },
      "execution_count": null,
      "outputs": [
        {
          "output_type": "stream",
          "name": "stdout",
          "text": [
            "Epoch [0/50], Loss: 2.3760673999786377\n",
            "Epoch [1/50], Loss: 2.374682903289795\n",
            "Epoch [2/50], Loss: 2.3733203411102295\n",
            "Epoch [3/50], Loss: 2.3719797134399414\n",
            "Epoch [4/50], Loss: 2.3706603050231934\n",
            "Epoch [5/50], Loss: 2.3693618774414062\n",
            "Epoch [6/50], Loss: 2.368083953857422\n",
            "Epoch [7/50], Loss: 2.366825819015503\n",
            "Epoch [8/50], Loss: 2.3655872344970703\n",
            "Epoch [9/50], Loss: 2.364367961883545\n",
            "Epoch [10/50], Loss: 2.3631675243377686\n",
            "Epoch [11/50], Loss: 2.361985921859741\n",
            "Epoch [12/50], Loss: 2.3608219623565674\n",
            "Epoch [13/50], Loss: 2.3596761226654053\n",
            "Epoch [14/50], Loss: 2.358546495437622\n",
            "Epoch [15/50], Loss: 2.3574347496032715\n",
            "Epoch [16/50], Loss: 2.356339693069458\n",
            "Epoch [17/50], Loss: 2.3552603721618652\n",
            "Epoch [18/50], Loss: 2.3541975021362305\n",
            "Epoch [19/50], Loss: 2.353149175643921\n",
            "Epoch [20/50], Loss: 2.352116823196411\n",
            "Epoch [21/50], Loss: 2.3510992527008057\n",
            "Epoch [22/50], Loss: 2.3500959873199463\n",
            "Epoch [23/50], Loss: 2.349107265472412\n",
            "Epoch [24/50], Loss: 2.348132610321045\n",
            "Epoch [25/50], Loss: 2.3471713066101074\n",
            "Epoch [26/50], Loss: 2.3462231159210205\n",
            "Epoch [27/50], Loss: 2.3452885150909424\n",
            "Epoch [28/50], Loss: 2.3443663120269775\n",
            "Epoch [29/50], Loss: 2.343456983566284\n",
            "Epoch [30/50], Loss: 2.342559814453125\n",
            "Epoch [31/50], Loss: 2.341674566268921\n",
            "Epoch [32/50], Loss: 2.3408010005950928\n",
            "Epoch [33/50], Loss: 2.3399386405944824\n",
            "Epoch [34/50], Loss: 2.339087724685669\n",
            "Epoch [35/50], Loss: 2.338247299194336\n",
            "Epoch [36/50], Loss: 2.337418556213379\n",
            "Epoch [37/50], Loss: 2.336599826812744\n",
            "Epoch [38/50], Loss: 2.3357908725738525\n",
            "Epoch [39/50], Loss: 2.3349924087524414\n",
            "Epoch [40/50], Loss: 2.3342037200927734\n",
            "Epoch [41/50], Loss: 2.3334250450134277\n",
            "Epoch [42/50], Loss: 2.332655191421509\n",
            "Epoch [43/50], Loss: 2.331894636154175\n",
            "Epoch [44/50], Loss: 2.3311431407928467\n",
            "Epoch [45/50], Loss: 2.3304004669189453\n",
            "Epoch [46/50], Loss: 2.3296666145324707\n",
            "Epoch [47/50], Loss: 2.3289408683776855\n",
            "Epoch [48/50], Loss: 2.328223943710327\n",
            "Epoch [49/50], Loss: 2.3275146484375\n"
          ]
        },
        {
          "output_type": "execute_result",
          "data": {
            "text/plain": [
              "{'model.0.weight': array([[ 0.02007801, -0.00095674,  0.01981417, ...,  0.03017884,\n",
              "          0.0090047 ,  0.01546136],\n",
              "        [-0.02657922, -0.02209734, -0.01582449, ..., -0.02080099,\n",
              "         -0.00286483, -0.02735751],\n",
              "        [ 0.03104339, -0.01770814,  0.02672025, ..., -0.01637515,\n",
              "          0.02535692, -0.00684192],\n",
              "        ...,\n",
              "        [ 0.02562393,  0.01071797, -0.00856138, ...,  0.02821124,\n",
              "         -0.01097845,  0.00296132],\n",
              "        [ 0.01464097,  0.01743496,  0.02610424, ..., -0.0099863 ,\n",
              "          0.02186127,  0.02554432],\n",
              "        [ 0.02597991, -0.01841385,  0.01107014, ..., -0.0074371 ,\n",
              "         -0.03376692,  0.03386039]], dtype=float32),\n",
              " 'model.0.bias': array([-0.01970444, -0.01535579, -0.00285902,  0.03253584, -0.01917029,\n",
              "        -0.02042463, -0.01664122,  0.01101663,  0.0060864 ,  0.0079527 ],\n",
              "       dtype=float32),\n",
              " 'model.2.weight': array([[-0.30799338,  0.09059213, -0.30312267, -0.10305741,  0.16375777,\n",
              "         -0.12184444,  0.06322815, -0.27979755, -0.04788046,  0.17303057],\n",
              "        [-0.21915126, -0.04507074,  0.22268325,  0.19330166, -0.21574728,\n",
              "          0.27261034, -0.13864793, -0.01945716, -0.13211872,  0.15643473],\n",
              "        [ 0.06121692,  0.24008384,  0.03468255, -0.15511626, -0.09722289,\n",
              "          0.08510029, -0.14783077, -0.15946482,  0.27224725,  0.30967993],\n",
              "        [ 0.0345416 , -0.12782164, -0.05620564, -0.31215295,  0.16824082,\n",
              "         -0.07650642,  0.29226717, -0.06518878, -0.04893884,  0.2720906 ],\n",
              "        [-0.04659005, -0.30783173, -0.00903762,  0.12557471, -0.00523295,\n",
              "          0.0899249 , -0.0425476 ,  0.07886556, -0.16068424,  0.05751907],\n",
              "        [-0.01956924,  0.09001716, -0.06488565,  0.06421021,  0.05422635,\n",
              "          0.14588375,  0.28750223,  0.1968697 , -0.04627365,  0.24714541],\n",
              "        [-0.02055913,  0.10253809, -0.013869  ,  0.04171837, -0.07128201,\n",
              "          0.22200811,  0.1517067 ,  0.172106  , -0.08227292,  0.16571845],\n",
              "        [ 0.19084218,  0.02270197, -0.23546287, -0.16725405, -0.02868732,\n",
              "         -0.29379705, -0.20793326, -0.00715496,  0.28406447,  0.23973681],\n",
              "        [-0.10392321, -0.13541293,  0.08756102, -0.1739499 , -0.19320644,\n",
              "         -0.16918248,  0.29892772, -0.14771406, -0.06362974,  0.11772239],\n",
              "        [-0.19564041,  0.26293376,  0.2528183 ,  0.07710436,  0.25417754,\n",
              "         -0.1143807 ,  0.17181672,  0.1363682 ,  0.09270727,  0.13758413]],\n",
              "       dtype=float32),\n",
              " 'model.2.bias': array([-0.15994416, -0.29625493, -0.21633957, -0.11094476, -0.07438799,\n",
              "        -0.1069497 ,  0.25369477,  0.03667705, -0.01612339, -0.11887252],\n",
              "       dtype=float32)}"
            ]
          },
          "metadata": {},
          "execution_count": 69
        }
      ]
    }
  ]
}